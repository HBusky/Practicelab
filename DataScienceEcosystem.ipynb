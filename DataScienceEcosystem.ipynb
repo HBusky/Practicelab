{
 "cells": [
  {
   "cell_type": "markdown",
   "id": "c13eea95-7bb0-4cc7-b966-6d74a6368021",
   "metadata": {},
   "source": [
    "# Data Science Tools and Ecosystem"
   ]
  },
  {
   "cell_type": "markdown",
   "id": "920710f8-a14b-49d9-ac9f-31dfec5c42c9",
   "metadata": {},
   "source": [
    "Introduction.\n",
    "\n",
    "In this notebook, Data Science Tools and Ecosystem are summarized."
   ]
  },
  {
   "cell_type": "markdown",
   "id": "61952cd7-80c1-4d71-9b3f-9ee3c159248a",
   "metadata": {},
   "source": [
    "Some of the popular languages Data Scientists use are;\n",
    "1. R\n",
    "2. Scala\n",
    "3. Python\n",
    "4. SQL\n",
    "5. C++"
   ]
  },
  {
   "cell_type": "markdown",
   "id": "8d62a92f-d299-4ddb-80b5-214bc2d935fd",
   "metadata": {},
   "source": [
    "**Objectives**\n",
    "- List popular languages for Data Science.\n",
    "- Create a table of Data Science tools.\n",
    "- Create a markdown cell introducing arithmetic expression examples.\n",
    "- Create a code cell to convert minutes to hours.\n",
    "- Create a markdown cell introducing arithmetic expression examples."
   ]
  },
  {
   "cell_type": "markdown",
   "id": "936e11f5-5f7c-499d-be40-8d2bba2ae48a",
   "metadata": {},
   "source": [
    "Some of the commonly used libraries used by Data Scientists include:\n",
    "1. Scikit-learn \n",
    "2. Matplotlip\n",
    "3. Numpy\n",
    "4. Pandas\n",
    "5. Keras"
   ]
  },
  {
   "cell_type": "markdown",
   "id": "3c31bce4-b79d-4d1c-adff-5edcb6796171",
   "metadata": {},
   "source": [
    "| Data Science Tools |\n",
    "| ------------------ |\n",
    "| Apache Spark |\n",
    "| Pytorch |\n",
    "| Jupyter |"
   ]
  },
  {
   "cell_type": "markdown",
   "id": "fcc1d2d9-b8aa-44aa-a444-cf8b27c4cc69",
   "metadata": {},
   "source": [
    "### Below are a few examples of evaluating arithmetic expressions in Python\n",
    "- 1 + 4\n",
    "- 2 * (4+5) "
   ]
  },
  {
   "cell_type": "code",
   "execution_count": 4,
   "id": "6f216c81-b639-456b-b88d-bbe209ce5b35",
   "metadata": {},
   "outputs": [
    {
     "data": {
      "text/plain": [
       "17"
      ]
     },
     "execution_count": 4,
     "metadata": {},
     "output_type": "execute_result"
    }
   ],
   "source": [
    "(3*4)+5\n",
    "\n",
    "## This is a simple arithmetic expression to mutiply then add integers."
   ]
  },
  {
   "cell_type": "code",
   "execution_count": 7,
   "id": "7eda7e86-e0d7-4362-b333-78fdf9169a38",
   "metadata": {},
   "outputs": [
    {
     "data": {
      "text/plain": [
       "3.3333333333333335"
      ]
     },
     "execution_count": 7,
     "metadata": {},
     "output_type": "execute_result"
    }
   ],
   "source": [
    "# This will convert 200 minutes to hours by diving by 60.\n",
    "\n",
    "200/60"
   ]
  },
  {
   "cell_type": "markdown",
   "id": "d462742a-5d69-4831-91f6-d76c9327680c",
   "metadata": {},
   "source": [
    "## Author\n",
    "Halima A. Momoh"
   ]
  }
 ],
 "metadata": {
  "kernelspec": {
   "display_name": "Python 3 (ipykernel)",
   "language": "python",
   "name": "python3"
  },
  "language_info": {
   "codemirror_mode": {
    "name": "ipython",
    "version": 3
   },
   "file_extension": ".py",
   "mimetype": "text/x-python",
   "name": "python",
   "nbconvert_exporter": "python",
   "pygments_lexer": "ipython3",
   "version": "3.12.7"
  }
 },
 "nbformat": 4,
 "nbformat_minor": 5
}
